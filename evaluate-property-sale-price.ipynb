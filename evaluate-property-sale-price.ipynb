{
 "cells": [
  {
   "cell_type": "code",
   "execution_count": null,
   "id": "87225d18",
   "metadata": {
    "papermill": {
     "duration": 0.004585,
     "end_time": "2022-11-04T21:28:45.302880",
     "exception": false,
     "start_time": "2022-11-04T21:28:45.298295",
     "status": "completed"
    },
    "tags": []
   },
   "outputs": [],
   "source": []
  },
  {
   "cell_type": "code",
   "execution_count": 1,
   "id": "0f52da59",
   "metadata": {
    "_cell_guid": "b1076dfc-b9ad-4769-8c92-a6c4dae69d19",
    "_uuid": "8f2839f25d086af736a60e9eeb907d3b93b6e0e5",
    "execution": {
     "iopub.execute_input": "2022-11-04T21:28:45.313047Z",
     "iopub.status.busy": "2022-11-04T21:28:45.312243Z",
     "iopub.status.idle": "2022-11-04T21:28:54.366267Z",
     "shell.execute_reply": "2022-11-04T21:28:54.365021Z"
    },
    "papermill": {
     "duration": 9.062744,
     "end_time": "2022-11-04T21:28:54.369350",
     "exception": false,
     "start_time": "2022-11-04T21:28:45.306606",
     "status": "completed"
    },
    "tags": []
   },
   "outputs": [
    {
     "name": "stdout",
     "output_type": "stream",
     "text": [
      "48244\n"
     ]
    }
   ],
   "source": [
    "import torch\n",
    "import torch.nn as nn\n",
    "import torch.nn.functional as F\n",
    "\n",
    "import numpy as np\n",
    "import pandas as pd\n",
    "import matplotlib.pyplot as plt\n",
    "\n",
    "df = pd.read_csv('/kaggle/input/nyc-property-sales/nyc-rolling-sales.csv')\n",
    "df['SALE DATE'] = df['SALE DATE'].str[:7]\n",
    "df.columns\n",
    "cont_cols = ['YEAR BUILT', 'GROSS SQUARE FEET', 'LAND SQUARE FEET', 'RESIDENTIAL UNITS', 'COMMERCIAL UNITS', ]\n",
    "cat_cols = ['NEIGHBORHOOD', 'BUILDING CLASS CATEGORY', 'BUILDING CLASS AT TIME OF SALE', 'SALE DATE']\n",
    "label_cols = ['SALE PRICE']\n",
    "\n",
    "\n",
    "for cat in cat_cols:\n",
    "    df[cat] = df[cat].astype('category')\n",
    "    \n",
    "buildingclass = df['BUILDING CLASS CATEGORY'].cat.codes.values\n",
    "neighborhood = df['NEIGHBORHOOD'].cat.codes.values\n",
    "buildingclassatsale = df['BUILDING CLASS AT TIME OF SALE'].cat.codes.values\n",
    "saledate = df['SALE DATE'].cat.codes.values\n",
    "cats = np.stack([buildingclass,neighborhood,buildingclassatsale, saledate], 1)\n",
    "cats = torch.tensor(cats, dtype=torch.int64)\n",
    "for cont in cont_cols:\n",
    "    df[cont] = pd.to_numeric(df[cont], errors='coerce')\n",
    " \n",
    "\n",
    "for cont in label_cols:\n",
    "    df[cont] = pd.to_numeric(df[cont], errors='coerce')\n",
    "    \n",
    "df = df.sample(frac=1).reset_index(drop=True)\n",
    "\n",
    "df.dropna(inplace=True)\n",
    "print(len(df[cont_cols]))\n",
    "i = 0\n",
    "\n",
    "\n",
    "\n",
    "conts = np.stack([df[col].values for col in cont_cols], 1)\n",
    "conts = torch.tensor(conts, dtype=torch.float)\n",
    "labels = np.stack([df[col].values for col in label_cols], 1)\n",
    "labels = torch.tensor(labels, dtype=torch.float)\n",
    "\n",
    "\n",
    "iSub = 0\n",
    "for i in range(len(labels)-1):\n",
    " \n",
    "    if (labels[i + iSub][0]) < 200000.0 or (labels[i + iSub][0]) > 5000000.0 :\n",
    "        if len(labels) == i + 1 + iSub:\n",
    "            labels= torch.cat([labels[0:i+iSub]])\n",
    "            conts= torch.cat([conts[0:i+iSub]])\n",
    "        else:\n",
    "            labels= torch.cat([labels[0:i+iSub], labels[i+1+iSub:]])\n",
    "            conts= torch.cat([conts[0:i+iSub], conts[i+1+iSub:]])\n",
    "            cats= torch.cat([cats[0:i+iSub], cats[i+1+iSub:]])\n",
    "            iSub -= 1\n",
    "            \n",
    "            \n",
    "iSub = 0\n",
    "for i in range(len(conts)-1):\n",
    " \n",
    "    if (conts[i + iSub][1]) < 1:\n",
    "        if len(conts) == i + 1 + iSub:\n",
    "            labels= torch.cat([label[0:i+iSub]])\n",
    "            conts= torch.cat([conts[0:i+iSub]])\n",
    "        else:\n",
    "            labels= torch.cat([labels[0:i+iSub], labels[i+1+iSub:]])\n",
    "            conts= torch.cat([conts[0:i+iSub], conts[i+1+iSub:]])\n",
    "            cats= torch.cat([cats[0:i+iSub], cats[i+1+iSub:]])\n",
    "            iSub -= 1"
   ]
  },
  {
   "cell_type": "code",
   "execution_count": 2,
   "id": "c88b25b3",
   "metadata": {
    "execution": {
     "iopub.execute_input": "2022-11-04T21:28:54.379213Z",
     "iopub.status.busy": "2022-11-04T21:28:54.377123Z",
     "iopub.status.idle": "2022-11-04T21:28:54.396292Z",
     "shell.execute_reply": "2022-11-04T21:28:54.394860Z"
    },
    "papermill": {
     "duration": 0.026993,
     "end_time": "2022-11-04T21:28:54.399523",
     "exception": false,
     "start_time": "2022-11-04T21:28:54.372530",
     "status": "completed"
    },
    "tags": []
   },
   "outputs": [],
   "source": [
    "class BasicModel(nn.Module):\n",
    "    def __init__(self, in_features=9, h1=20, h2=40, out_features=1):\n",
    "        super().__init__()\n",
    "        self.fc1 = nn.Linear(in_features,h1)    # input layer\n",
    "        self.fc2 = nn.Linear(h1, h2)     \n",
    "        self.fc3 = nn.Linear(h2, h1)     # hidden layer\n",
    "        self.out = nn.Linear(h1, out_features)  # output layer\n",
    "        \n",
    "    def forward(self, x):\n",
    "        x = F.relu(self.fc1(x))\n",
    "        x = F.relu(self.fc2(x))\n",
    "        x = F.relu(self.fc3(x))\n",
    "        x = self.out(x)\n",
    "        return x\n",
    "model = BasicModel()\n",
    "torch.manual_seed(69)\n",
    "criterion = nn.L1Loss()\n",
    "#criterion = nn.CrossEntropyLoss()\n",
    "#Test and find a learning rate that makes your model successful. I recommend using multiples of 10 (moving a decimal point) until you get\n",
    "#close, then multiples of 5 if necessary.\n",
    "optimizer = torch.optim.Adam(model.parameters(), lr=.1)"
   ]
  },
  {
   "cell_type": "code",
   "execution_count": 3,
   "id": "81ce62d4",
   "metadata": {
    "execution": {
     "iopub.execute_input": "2022-11-04T21:28:54.407269Z",
     "iopub.status.busy": "2022-11-04T21:28:54.406822Z",
     "iopub.status.idle": "2022-11-04T21:28:54.414799Z",
     "shell.execute_reply": "2022-11-04T21:28:54.413663Z"
    },
    "papermill": {
     "duration": 0.014517,
     "end_time": "2022-11-04T21:28:54.417161",
     "exception": false,
     "start_time": "2022-11-04T21:28:54.402644",
     "status": "completed"
    },
    "tags": []
   },
   "outputs": [],
   "source": [
    "batch_size = 2000\n",
    "#If our batch size is 50, what should the test size be?\n",
    "test_size = 800\n",
    "\n",
    "cat_train = cats[:batch_size-test_size]\n",
    "cat_test = cats[batch_size-test_size:batch_size]\n",
    "con_train = conts[:batch_size-test_size]\n",
    "con_test = conts[batch_size-test_size:batch_size]\n",
    "y_train = labels[:batch_size-test_size]\n",
    "y_test = labels[batch_size-test_size:batch_size]\n",
    "\n",
    "x_train = torch.cat((cat_train, con_train), 1)\n",
    "x_test = torch.cat((cat_test, con_test), 1)"
   ]
  },
  {
   "cell_type": "code",
   "execution_count": 4,
   "id": "b01e0a16",
   "metadata": {
    "execution": {
     "iopub.execute_input": "2022-11-04T21:28:54.425738Z",
     "iopub.status.busy": "2022-11-04T21:28:54.424474Z",
     "iopub.status.idle": "2022-11-04T21:28:56.308821Z",
     "shell.execute_reply": "2022-11-04T21:28:56.307434Z"
    },
    "papermill": {
     "duration": 1.892694,
     "end_time": "2022-11-04T21:28:56.312800",
     "exception": false,
     "start_time": "2022-11-04T21:28:54.420106",
     "status": "completed"
    },
    "tags": []
   },
   "outputs": [
    {
     "name": "stdout",
     "output_type": "stream",
     "text": [
      "epoch:  0  loss: 894.54113770\n",
      "epoch: 50  loss: 589.36413574\n",
      "epoch: 100  loss: 566.14245605\n",
      "epoch: 150  loss: 553.41723633\n",
      "epoch: 200  loss: 557.08764648\n",
      "epoch: 250  loss: 552.62005615\n",
      "epoch: 300  loss: 552.75579834\n",
      "epoch: 350  loss: 550.58850098\n",
      "epoch: 400  loss: 550.19024658\n",
      "epoch: 450  loss: 549.66839600\n",
      "epoch: 500  loss: 548.80310059\n",
      "epoch: 550  loss: 548.69726562\n",
      "epoch: 600  loss: 547.61346436\n",
      "epoch: 650  loss: 549.66827393\n",
      "epoch: 700  loss: 547.98132324\n",
      "epoch: 750  loss: 546.87640381\n",
      "epoch: 800  loss: 546.23162842\n",
      "epoch: 850  loss: 546.75512695\n",
      "epoch: 900  loss: 547.52795410\n",
      "epoch: 950  loss: 545.37176514\n"
     ]
    }
   ],
   "source": [
    "epochs = 1000\n",
    "losses = []\n",
    "\n",
    "for i in range(epochs):\n",
    "    y_pred = model.forward(x_train)\n",
    "    loss = torch.sqrt(criterion(y_pred, y_train))\n",
    "    losses.append(loss)\n",
    "    \n",
    "    if i %(epochs / 20 )== 0:\n",
    "        print(f'epoch: {i:2}  loss: {loss.item():10.8f}')\n",
    "\n",
    "    optimizer.zero_grad()\n",
    "    loss.backward()\n",
    "    optimizer.step()"
   ]
  },
  {
   "cell_type": "code",
   "execution_count": null,
   "id": "5c4b0b27",
   "metadata": {
    "papermill": {
     "duration": 0.003094,
     "end_time": "2022-11-04T21:28:56.320205",
     "exception": false,
     "start_time": "2022-11-04T21:28:56.317111",
     "status": "completed"
    },
    "tags": []
   },
   "outputs": [],
   "source": []
  },
  {
   "cell_type": "code",
   "execution_count": 5,
   "id": "31717faf",
   "metadata": {
    "execution": {
     "iopub.execute_input": "2022-11-04T21:28:56.328769Z",
     "iopub.status.busy": "2022-11-04T21:28:56.328372Z",
     "iopub.status.idle": "2022-11-04T21:28:59.396126Z",
     "shell.execute_reply": "2022-11-04T21:28:59.394772Z"
    },
    "papermill": {
     "duration": 3.075694,
     "end_time": "2022-11-04T21:28:59.399258",
     "exception": false,
     "start_time": "2022-11-04T21:28:56.323564",
     "status": "completed"
    },
    "tags": []
   },
   "outputs": [
    {
     "name": "stdout",
     "output_type": "stream",
     "text": [
      "predicted 991,064.875 actual 818,587.0\n",
      "predicted 528,303.4375 actual 417,000.0\n",
      "predicted 748,086.8125 actual 1,200,000.0\n",
      "predicted 760,781.0625 actual 600,000.0\n",
      "predicted 1,763,511.375 actual 995,000.0\n",
      "predicted 1,426,148.5 actual 478,400.0\n",
      "predicted 2,513,535.5 actual 1,300,000.0\n",
      "predicted 1,241,585.625 actual 1,600,000.0\n",
      "predicted 544,326.6875 actual 470,000.0\n",
      "predicted 6.415526866912842 actual 4,223,025.0\n",
      "predicted 1,693,534.25 actual 260,000.0\n",
      "predicted 1,426,920.875 actual 1,425,000.0\n",
      "predicted 503,838.75 actual 450,000.0\n",
      "predicted 404,565.40625 actual 360,000.0\n",
      "predicted 696,796.3125 actual 460,000.0\n",
      "predicted 506,788.25 actual 345,112.0\n",
      "predicted 465,050.03125 actual 735,000.0\n",
      "predicted 950,623.0625 actual 950,000.0\n",
      "predicted 1,204,924.625 actual 400,000.0\n",
      "predicted 972,210.6875 actual 730,000.0\n",
      " average off by 575,792.552602344\n"
     ]
    },
    {
     "data": {
      "image/png": "[encoded data removed]",
      "text/plain": [
       "<Figure size 432x288 with 1 Axes>"
      ]
     },
     "metadata": {
      "needs_background": "light"
     },
     "output_type": "display_data"
    }
   ],
   "source": [
    "offset = 1000\n",
    "batch_size = 25000\n",
    "test_size =0\n",
    "cat_train = cats[offset:(batch_size-test_size)+ offset]\n",
    "cat_test = cats[offset + (batch_size-test_size):offset+batch_size]\n",
    "con_train = conts[offset:(batch_size-test_size)+ offset]\n",
    "con_test = conts[offset+ (batch_size-test_size):offset+batch_size]\n",
    "\n",
    "y_train = labels[offset:offset+(batch_size-test_size)]\n",
    "y_test = labels[offset+(batch_size-test_size):offset+batch_size]\n",
    "\n",
    "\n",
    "x_train = torch.cat((cat_train, con_train), 1)\n",
    "x_test = torch.cat((cat_test, con_test), 1)\n",
    "difference = 0\n",
    "for i in range(batch_size - test_size):\n",
    "    difference += abs((y_train[i]).item() - (model.forward(x_train[i])).item() )\n",
    "    if i %((batch_size - test_size) / 20 )== 0:\n",
    "        print(f'predicted {(model.forward(x_train[i])).item():,} actual {(y_train[i]).item():,}')\n",
    "        \n",
    "        \n",
    "\n",
    "#difference = 0;\n",
    "#for i in range(20):\n",
    "   # print(f'predicted { ((model.forward(conts[0 + i*20]))[0]):,} actual {(labels[i*20][0]):,}')\n",
    "   # difference += abs((labels[i*50][0]) - ((model.forward(conts[0 + i*50]))[0]) )\n",
    "    \n",
    "print (f' average off by {difference /(batch_size - test_size):,}')\n",
    "with torch.no_grad():\n",
    "  plt.plot(range(epochs), losses)\n",
    "  plt.ylabel('RMSE Loss')\n",
    "  plt.xlabel('epoch');"
   ]
  }
 ],
 "metadata": {
  "kernelspec": {
   "display_name": "Python 3",
   "language": "python",
   "name": "python3"
  },
  "language_info": {
   "codemirror_mode": {
    "name": "ipython",
    "version": 3
   },
   "file_extension": ".py",
   "mimetype": "text/x-python",
   "name": "python",
   "nbconvert_exporter": "python",
   "pygments_lexer": "ipython3",
   "version": "3.7.12"
  },
  "papermill": {
   "default_parameters": {},
   "duration": 23.913342,
   "end_time": "2022-11-04T21:29:00.328595",
   "environment_variables": {},
   "exception": null,
   "input_path": "__notebook__.ipynb",
   "output_path": "__notebook__.ipynb",
   "parameters": {},
   "start_time": "2022-11-04T21:28:36.415253",
   "version": "2.3.4"
  }
 },
 "nbformat": 4,
 "nbformat_minor": 5
}
